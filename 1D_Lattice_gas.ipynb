{
 "cells": [
  {
   "cell_type": "markdown",
   "id": "e809a650-d47e-40f6-8113-526832d97268",
   "metadata": {},
   "source": [
    "## Here’s a simple Python script that uses the transfer matrix method to compute the partition function $Z_N$ for a 1D hard-core lattice gas with fugacity z and N sites:"
   ]
  },
  {
   "cell_type": "markdown",
   "id": "63af069d-bbc5-43ac-a0fe-590234501627",
   "metadata": {},
   "source": [
    "### Model Description\r\n",
    "\r\n",
    "Let $n_i \\in \\{0, 1\\}$ be the occupation number at lattice site $i$. The hard-core constraint forbids configurations where $n_i = n_j = 1$ for any nearest-neighbor pair $\\langle i, j \\rangle$.\r\n",
    "\r\n",
    "The Hamiltonian can be simplified because the interaction is entirely in the constraints, so:\r\n",
    "\r\n",
    "$$ H = -\\mu \\sum_i n_i $$\r\n",
    "\r\n",
    "Only allowed configurations are those where no adjacent sites are both occupied.\r\n",
    "\r\n",
    "### Partition Function\r\n",
    "\r\n",
    "$$ Z = \\sum_{\\{n_i\\}} e^{\\beta \\mu \\sum_i n_i} \\prod_{\\langle i, j \\rangle} (1 - n_i n_j) $$\r\n",
    "\r\n",
    "The product $\\prod_{\\langle i, j \\rangle} (1 - n_i n_j)$ enforces the hard-core constraint — it vanishes (i.e., the configuration is forbidden) if any two neighbors are both occupied.\r\n",
    "\r\n",
    "The exponential $e^{\\beta \\mu \\sum_i n_i}$ gives a weight depending on the numb\n",
    "\n",
    "The transfer matrix $T$ is a 2×2 matrix, where each element $T_{s, s'}$ represents the statistical weight of placing state $s'$ at site $i+1$ given that the site $i$ is in state $s$.\r\n",
    "\r\n",
    "$$\r\n",
    "T_{s, s'} =\r\n",
    "\\begin{cases}\r\n",
    "e^{\\beta \\mu} & \\text{if } s' = 1 \\text{ and } s = 0 \\\\\r\n",
    "1 & \\text{if } s' = 0 \\\\\r\n",
    "0 & \\text{if } s' = 1 \\text{ and } s = 1\r\n",
    "\\end{cases}\r\n",
    "$$\r\n",
    "\r\n",
    "That gives:\r\n",
    "\r\n",
    "$$\r\n",
    "T =\r\n",
    "\\begin{pmatrix}\r\n",
    "T_{0, 0} & T_{0, 1} \\\\\r\n",
    "T_{1, 0} & T_{1, 1}\r\n",
    "\\end{pmatrix}\r\n",
    "=\r\n",
    "\\begin{pmatrix}\r\n",
    "1 & e^{\\beta \\mu} \\\\\r\n",
    "1 & 0\r\n",
    "\\end{pmatrix}\r\n",
    "$$\r\n",
    "\r\n",
    "### Explanation of entries:\r\n",
    "\r\n",
    "- $T_{0, 0} = 1$: empty → empty\r\n",
    "- $T_{0, 1} = e^{\\beta \\mu}$: empty → occupied (allowed, gets a fugacity factor)\r\n",
    "- $T_{1, 0} = 1$: occupied → empty (allowed)\r\n",
    "- $T_{1, 1} = 0$: occupied → occupied (forbidden by hard-core rule)\r\n",
    "er of particles.\r\n",
    "r of particles.\r\n",
    "r of particles.\r\n"
   ]
  },
  {
   "cell_type": "code",
   "execution_count": 8,
   "id": "5a62e59d-0713-42a7-8a07-5a2a4358fb28",
   "metadata": {},
   "outputs": [
    {
     "name": "stdout",
     "output_type": "stream",
     "text": [
      "Partition function Z_4 with z = 2.0 is: 21.0\n"
     ]
    }
   ],
   "source": [
    "import numpy as np\n",
    "\n",
    "def partition_function(N, z):\n",
    "    # Define the transfer matrix\n",
    "    T = np.array([[1, z],\n",
    "                  [1, 0]], dtype=float)\n",
    "\n",
    "    # Initial state vector: site 1 can be empty (1) or occupied (z)\n",
    "    v = np.array([1, z], dtype=float)\n",
    "\n",
    "    # Apply the transfer matrix N-1 times\n",
    "    for _ in range(N - 1):\n",
    "        v = T.T @ v  # Transpose because we multiply from the left\n",
    "\n",
    "    # Total partition function is the sum over final state weights\n",
    "    return np.sum(v)\n",
    "\n",
    "# Example: 1D hard-core gas with 4 sites and fugacity z = 2\n",
    "N = 4\n",
    "z = 2.0\n",
    "Z = partition_function(N, z)\n",
    "print(f\"Partition function Z_{N} with z = {z} is: {Z}\")\n"
   ]
  },
  {
   "cell_type": "code",
   "execution_count": null,
   "id": "f217e8d1-0902-427f-a72d-b2b2a3bf4e82",
   "metadata": {},
   "outputs": [],
   "source": []
  },
  {
   "cell_type": "markdown",
   "id": "e1163e97-b1d7-42fb-b3b6-2df541b7814f",
   "metadata": {},
   "source": [
    "### Extended Script for Hard-Core Gas Model\r\n",
    "\r\n",
    "This script:\r\n",
    "\r\n",
    "- Tracks weights for each configuration ending in 0 or 1.\r\n",
    "- Recursively builds all allowed configurations of the hard-core gas.\r\n",
    "- Prints each configuration with its weight.\r\n",
    "- Computes the total partition function by summing these weights.\r\n",
    ", weights)\r\n",
    "print(f\"Total Partition Function: {partition_function}\")\r\n"
   ]
  },
  {
   "cell_type": "markdown",
   "id": "a8492c4d-8bf1-482d-96df-5ff0f2dbd9cc",
   "metadata": {},
   "source": [
    "### For 1D ising spin no two spin down will be exactly same  ..... take Z=1 \n",
    "\n",
    "\n",
    "$$\n",
    "T =\n",
    "\\begin{pmatrix}\n",
    "T_{0, 0} & T_{0, 1} \\\\\n",
    "T_{1, 0} & T_{1, 1}\n",
    "\\end{pmatrix}\n",
    "=\n",
    "\\begin{pmatrix}\n",
    "1 & 1 \\\\\n",
    "1 & 0\n",
    "\\end{pmatrix}\n",
    "$$\n"
   ]
  },
  {
   "cell_type": "code",
   "execution_count": 10,
   "id": "c6d2262d-30ce-444c-93ed-5465c7195505",
   "metadata": {},
   "outputs": [
    {
     "name": "stdout",
     "output_type": "stream",
     "text": [
      "Allowed configurations and their weights (z = 1.0):\n",
      "\n",
      "[0, 0, 0, 0]  -->  weight = z^0 = 1.0\n",
      "[0, 0, 0, 1]  -->  weight = z^1 = 1.0\n",
      "[0, 0, 1, 0]  -->  weight = z^1 = 1.0\n",
      "[0, 1, 0, 0]  -->  weight = z^1 = 1.0\n",
      "[0, 1, 0, 1]  -->  weight = z^2 = 1.0\n",
      "[1, 0, 0, 0]  -->  weight = z^1 = 1.0\n",
      "[1, 0, 0, 1]  -->  weight = z^2 = 1.0\n",
      "[1, 0, 1, 0]  -->  weight = z^2 = 1.0\n",
      "\n",
      "Partition function Z_4 = 8.0\n"
     ]
    },
    {
     "data": {
      "text/plain": [
       "8.0"
      ]
     },
     "execution_count": 10,
     "metadata": {},
     "output_type": "execute_result"
    }
   ],
   "source": [
    "import numpy as np\n",
    "\n",
    "def is_allowed(config):\n",
    "    # Hard-core constraint: no two adjacent 1s\n",
    "    for i in range(len(config) - 1):\n",
    "        if config[i] == 1 and config[i + 1] == 1:\n",
    "            return False\n",
    "    return True\n",
    "\n",
    "def generate_configs(N):\n",
    "    # Generate all binary configs of length N with hard-core constraint\n",
    "    from itertools import product\n",
    "    return [list(cfg) for cfg in product([0, 1], repeat=N) if is_allowed(cfg)]\n",
    "\n",
    "def config_weight(config, z):\n",
    "    # Weight = z^number of 1s\n",
    "    return z ** sum(config)\n",
    "\n",
    "def partition_function_and_configs(N, z):\n",
    "    configs = generate_configs(N)\n",
    "    total_Z = 0\n",
    "    print(f\"Allowed configurations and their weights (z = {z}):\\n\")\n",
    "    for cfg in configs:\n",
    "        w = config_weight(cfg, z)\n",
    "        total_Z += w\n",
    "        print(f\"{cfg}  -->  weight = z^{sum(cfg)} = {w}\")\n",
    "    print(f\"\\nPartition function Z_{N} = {total_Z}\")\n",
    "    return total_Z\n",
    "\n",
    "# Example: 4 sites, fugacity z = 2\n",
    "N = 4\n",
    "z = 1.0\n",
    "partition_function_and_configs(N, z)\n"
   ]
  },
  {
   "cell_type": "code",
   "execution_count": null,
   "id": "d1954db7-c3a0-4490-ae21-08771ce7e209",
   "metadata": {},
   "outputs": [],
   "source": []
  }
 ],
 "metadata": {
  "kernelspec": {
   "display_name": "Python 3 (ipykernel)",
   "language": "python",
   "name": "python3"
  },
  "language_info": {
   "codemirror_mode": {
    "name": "ipython",
    "version": 3
   },
   "file_extension": ".py",
   "mimetype": "text/x-python",
   "name": "python",
   "nbconvert_exporter": "python",
   "pygments_lexer": "ipython3",
   "version": "3.9.7"
  }
 },
 "nbformat": 4,
 "nbformat_minor": 5
}
